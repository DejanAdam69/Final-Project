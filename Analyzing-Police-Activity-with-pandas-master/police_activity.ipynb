{
 "cells": [
  {
   "cell_type": "markdown",
   "metadata": {},
   "source": [
    "## Analyzing Police Activity with pandas\n",
    "\n",
    "### In this project, we will explore the Stanford Open Policing Project dataset and analyze the impact of gender on police behavior. They've collected data from 31 US states, but in this project we'll be focusing on data from the state of Rhode Island. \n",
    "\n",
    "#### Download the data:\n",
    "wget https://stacks.stanford.edu/file/druid:py883nd2578/RI-clean.csv.gz\n",
    "\n",
    "gunzip RI-clean.csv.gz"
   ]
  },
  {
   "cell_type": "code",
   "execution_count": 1,
   "metadata": {},
   "outputs": [
    {
     "name": "stderr",
     "output_type": "stream",
     "text": [
      "/home/cchen/miniconda3/lib/python3.6/site-packages/IPython/core/interactiveshell.py:3018: DtypeWarning: Columns (8) have mixed types. Specify dtype option on import or set low_memory=False.\n",
      "  interactivity=interactivity, compiler=compiler, result=result)\n"
     ]
    },
    {
     "name": "stdout",
     "output_type": "stream",
     "text": [
      "              id state   stop_date stop_time location_raw  county_name  \\\n",
      "0  RI-2005-00001    RI  2005-01-02     01:55      Zone K1          NaN   \n",
      "1  RI-2005-00002    RI  2005-01-02     20:30      Zone X4          NaN   \n",
      "2  RI-2005-00003    RI  2005-01-04     11:30      Zone X1          NaN   \n",
      "3  RI-2005-00004    RI  2005-01-04     12:55      Zone X4          NaN   \n",
      "4  RI-2005-00005    RI  2005-01-06     01:30      Zone X4          NaN   \n",
      "\n",
      "   county_fips  fine_grained_location police_department driver_gender  \\\n",
      "0          NaN                    NaN               600             M   \n",
      "1          NaN                    NaN               500             M   \n",
      "2          NaN                    NaN                 0           NaN   \n",
      "3          NaN                    NaN               500             M   \n",
      "4          NaN                    NaN               500             M   \n",
      "\n",
      "     ...     search_conducted  search_type_raw search_type contraband_found  \\\n",
      "0    ...                False              NaN         NaN            False   \n",
      "1    ...                False              NaN         NaN            False   \n",
      "2    ...                False              NaN         NaN            False   \n",
      "3    ...                False              NaN         NaN            False   \n",
      "4    ...                False              NaN         NaN            False   \n",
      "\n",
      "  stop_outcome is_arrested  stop_duration out_of_state drugs_related_stop  \\\n",
      "0     Citation       False       0-15 Min        False              False   \n",
      "1     Citation       False      16-30 Min        False              False   \n",
      "2          NaN         NaN            NaN          NaN              False   \n",
      "3     Citation       False       0-15 Min        False              False   \n",
      "4     Citation       False       0-15 Min        False              False   \n",
      "\n",
      "   district  \n",
      "0   Zone K1  \n",
      "1   Zone X4  \n",
      "2   Zone X1  \n",
      "3   Zone X4  \n",
      "4   Zone X4  \n",
      "\n",
      "[5 rows x 26 columns]\n",
      "id                            0\n",
      "state                         0\n",
      "stop_date                     0\n",
      "stop_time                     0\n",
      "location_raw                  0\n",
      "county_name              509671\n",
      "county_fips              509671\n",
      "fine_grained_location    509671\n",
      "police_department             0\n",
      "driver_gender             29087\n",
      "driver_age_raw            29039\n",
      "driver_age                30685\n",
      "driver_race_raw           29063\n",
      "driver_race               29063\n",
      "violation_raw             29063\n",
      "violation                 29063\n",
      "search_conducted              0\n",
      "search_type_raw          491909\n",
      "search_type              491909\n",
      "contraband_found              0\n",
      "stop_outcome              29063\n",
      "is_arrested               29063\n",
      "stop_duration             29063\n",
      "out_of_state              29871\n",
      "drugs_related_stop            0\n",
      "district                      0\n",
      "dtype: int64\n"
     ]
    }
   ],
   "source": [
    "import pandas as pd\n",
    "\n",
    "###########################################\n",
    "# Part 1. Preparing the data for analysis #\n",
    "###########################################\n",
    "\n",
    "#----------------------------\n",
    "# (1.1) Examining the dataset\n",
    "#----------------------------\n",
    "\n",
    "# Read data set into a DataFrame named ri\n",
    "ri = pd.read_csv('../data/RI-clean.csv')\n",
    "\n",
    "# Examine the head of the DataFrame\n",
    "print(ri.head())\n",
    "\n",
    "# Count the number of missing values in each column\n",
    "print(ri.isnull().sum())"
   ]
  },
  {
   "cell_type": "code",
   "execution_count": 2,
   "metadata": {},
   "outputs": [
    {
     "name": "stdout",
     "output_type": "stream",
     "text": [
      "(509671, 26)\n",
      "(509671, 22)\n"
     ]
    }
   ],
   "source": [
    "#-----------------------\n",
    "# (1.2) Dropping columns \n",
    "#-----------------------\n",
    "\n",
    "# Examine the shape of the DataFrame\n",
    "print(ri.shape)\n",
    "\n",
    "# Drop empty and unuseful columns\n",
    "ri.drop(['state', 'county_name', 'county_fips', 'fine_grained_location'], axis='columns', inplace=True)\n",
    "\n",
    "# Examine the shape of the DataFrame (again)\n",
    "print(ri.shape)"
   ]
  },
  {
   "cell_type": "code",
   "execution_count": 3,
   "metadata": {},
   "outputs": [
    {
     "name": "stdout",
     "output_type": "stream",
     "text": [
      "id                         0\n",
      "stop_date                  0\n",
      "stop_time                  0\n",
      "location_raw               0\n",
      "police_department          0\n",
      "driver_gender              0\n",
      "driver_age_raw             1\n",
      "driver_age              1638\n",
      "driver_race_raw            0\n",
      "driver_race                0\n",
      "violation_raw              0\n",
      "violation                  0\n",
      "search_conducted           0\n",
      "search_type_raw       462822\n",
      "search_type           462822\n",
      "contraband_found           0\n",
      "stop_outcome               0\n",
      "is_arrested                0\n",
      "stop_duration              0\n",
      "out_of_state             808\n",
      "drugs_related_stop         0\n",
      "district                   0\n",
      "dtype: int64\n",
      "(480584, 22)\n"
     ]
    }
   ],
   "source": [
    "#--------------------\n",
    "# (1.3) Dropping rows\n",
    "#--------------------\n",
    "\n",
    "# Drop all rows that are missing 'driver_gender'\n",
    "ri.dropna(subset=['driver_gender'], inplace=True)\n",
    "\n",
    "# Count the number of missing values in each column (again)\n",
    "print(ri.isnull().sum())\n",
    "\n",
    "# Examine the shape of the DataFrame\n",
    "print(ri.shape)"
   ]
  },
  {
   "cell_type": "code",
   "execution_count": 4,
   "metadata": {},
   "outputs": [
    {
     "name": "stdout",
     "output_type": "stream",
     "text": [
      "id                     object\n",
      "stop_date              object\n",
      "stop_time              object\n",
      "location_raw           object\n",
      "police_department      object\n",
      "driver_gender          object\n",
      "driver_age_raw        float64\n",
      "driver_age            float64\n",
      "driver_race_raw        object\n",
      "driver_race            object\n",
      "violation_raw          object\n",
      "violation              object\n",
      "search_conducted         bool\n",
      "search_type_raw        object\n",
      "search_type            object\n",
      "contraband_found         bool\n",
      "stop_outcome           object\n",
      "is_arrested            object\n",
      "stop_duration          object\n",
      "out_of_state           object\n",
      "drugs_related_stop       bool\n",
      "district               object\n",
      "dtype: object\n",
      "object\n",
      "bool\n"
     ]
    }
   ],
   "source": [
    "#-----------------------------\n",
    "# (1.4) Using proper datatypes \n",
    "#-----------------------------\n",
    "\n",
    "# Finding an incorrect data type\n",
    "print(ri.dtypes)\n",
    "\n",
    "# Check the data type of 'is_arrested'\n",
    "print(ri.is_arrested.dtype)\n",
    "\n",
    "# Change the data type of 'is_arrested' to 'bool'\n",
    "ri['is_arrested'] = ri.is_arrested.astype('bool')\n",
    "\n",
    "# Check the data type of 'is_arrested' (again)\n",
    "print(ri.is_arrested.dtype)"
   ]
  },
  {
   "cell_type": "code",
   "execution_count": 5,
   "metadata": {},
   "outputs": [
    {
     "name": "stdout",
     "output_type": "stream",
     "text": [
      "id                            object\n",
      "stop_date                     object\n",
      "stop_time                     object\n",
      "location_raw                  object\n",
      "police_department             object\n",
      "driver_gender                 object\n",
      "driver_age_raw               float64\n",
      "driver_age                   float64\n",
      "driver_race_raw               object\n",
      "driver_race                   object\n",
      "violation_raw                 object\n",
      "violation                     object\n",
      "search_conducted                bool\n",
      "search_type_raw               object\n",
      "search_type                   object\n",
      "contraband_found                bool\n",
      "stop_outcome                  object\n",
      "is_arrested                     bool\n",
      "stop_duration                 object\n",
      "out_of_state                  object\n",
      "drugs_related_stop              bool\n",
      "district                      object\n",
      "stop_datetime         datetime64[ns]\n",
      "dtype: object\n",
      "DatetimeIndex(['2005-01-02 01:55:00', '2005-01-02 20:30:00',\n",
      "               '2005-01-04 12:55:00', '2005-01-06 01:30:00',\n",
      "               '2005-01-12 08:05:00', '2005-01-18 08:15:00',\n",
      "               '2005-01-18 17:13:00', '2005-01-23 23:15:00',\n",
      "               '2005-01-24 20:32:00', '2005-02-09 03:05:00',\n",
      "               ...\n",
      "               '2015-12-31 22:10:00', '2015-12-31 22:14:00',\n",
      "               '2015-12-31 22:26:00', '2015-12-31 22:38:00',\n",
      "               '2015-12-31 22:39:00', '2015-12-31 22:46:00',\n",
      "               '2015-12-31 22:47:00', '2015-12-31 23:08:00',\n",
      "               '2015-12-31 23:44:00', '2015-12-31 23:48:00'],\n",
      "              dtype='datetime64[ns]', name='stop_datetime', length=480584, freq=None)\n",
      "Index(['id', 'stop_date', 'stop_time', 'location_raw', 'police_department',\n",
      "       'driver_gender', 'driver_age_raw', 'driver_age', 'driver_race_raw',\n",
      "       'driver_race', 'violation_raw', 'violation', 'search_conducted',\n",
      "       'search_type_raw', 'search_type', 'contraband_found', 'stop_outcome',\n",
      "       'is_arrested', 'stop_duration', 'out_of_state', 'drugs_related_stop',\n",
      "       'district'],\n",
      "      dtype='object')\n"
     ]
    }
   ],
   "source": [
    "#-------------------------------\n",
    "# (1.5) Creating a DatetimeIndex\n",
    "#-------------------------------\n",
    "\n",
    "# Concatenate 'stop_date' and 'stop_time' (separated by a space)\n",
    "combined = ri.stop_date.str.cat(ri.stop_time, sep=' ')\n",
    "\n",
    "# Convert 'combined' to datetime format\n",
    "ri['stop_datetime'] = pd.to_datetime(combined)\n",
    "\n",
    "# Examine the data types of the DataFrame\n",
    "print(ri.dtypes)\n",
    "\n",
    "# Set 'stop_datetime' as the index\n",
    "ri.set_index('stop_datetime', inplace=True)\n",
    "\n",
    "# Examine the index\n",
    "print(ri.index)\n",
    "\n",
    "# Examine the columns\n",
    "print(ri.columns)"
   ]
  },
  {
   "cell_type": "code",
   "execution_count": 6,
   "metadata": {},
   "outputs": [
    {
     "name": "stdout",
     "output_type": "stream",
     "text": [
      "Speeding               268736\n",
      "Moving violation        90228\n",
      "Equipment               61250\n",
      "Other                   24216\n",
      "Registration/plates     19830\n",
      "Seat belt               16324\n",
      "Name: violation, dtype: int64\n",
      "Speeding               0.559186\n",
      "Moving violation       0.187747\n",
      "Equipment              0.127449\n",
      "Other                  0.050389\n",
      "Registration/plates    0.041262\n",
      "Seat belt              0.033967\n",
      "Name: violation, dtype: float64\n",
      "Speeding               0.657308\n",
      "Moving violation       0.136581\n",
      "Equipment              0.107055\n",
      "Registration/plates    0.043077\n",
      "Other                  0.028908\n",
      "Seat belt              0.027071\n",
      "Name: violation, dtype: float64\n",
      "Speeding               0.522364\n",
      "Moving violation       0.206948\n",
      "Equipment              0.135102\n",
      "Other                  0.058450\n",
      "Registration/plates    0.040581\n",
      "Seat belt              0.036555\n",
      "Name: violation, dtype: float64\n"
     ]
    },
    {
     "data": {
      "text/plain": [
       "\"About two-thirds of female traffic stops are for speeding, \\nwhereas stops of males are more balanced among the six categories. \\nThis doesn't mean that females speed more often than males, \\nhowever, since we didn't take into account the number of stops or drivers.\""
      ]
     },
     "execution_count": 6,
     "metadata": {},
     "output_type": "execute_result"
    }
   ],
   "source": [
    "##################################################################\n",
    "# Part 2. Exploring the relationship between gender and policing #\n",
    "##################################################################\n",
    "\n",
    "#---------------------------------\n",
    "# (2.1) Comparing violations by gender\n",
    "#---------------------------------\n",
    "\n",
    "# Count the unique values in 'violation'\n",
    "print(ri.violation.value_counts())\n",
    "\n",
    "# Express the counts as proportions\n",
    "print(ri.violation.value_counts(normalize=True))\n",
    "\n",
    "\"\"\"More than half of all violations are for speeding, followed by other moving violations and equipment violations.\"\"\"\n",
    "\n",
    "# Create a DataFrame of female drivers\n",
    "female = ri[ri.driver_gender=='F']\n",
    "\n",
    "# Create a DataFrame of male drivers\n",
    "male = ri[ri.driver_gender=='M']\n",
    "\n",
    "# Compute the violations by female drivers (as proportions)\n",
    "print(female.violation.value_counts(normalize=True))\n",
    "\n",
    "# Compute the violations by male drivers (as proportions)\n",
    "print(male.violation.value_counts(normalize=True))\n",
    "\n",
    "\"\"\"About two-thirds of female traffic stops are for speeding, \n",
    "whereas stops of males are more balanced among the six categories. \n",
    "This doesn't mean that females speed more often than males, \n",
    "however, since we didn't take into account the number of stops or drivers.\"\"\""
   ]
  },
  {
   "cell_type": "code",
   "execution_count": 7,
   "metadata": {},
   "outputs": [
    {
     "name": "stdout",
     "output_type": "stream",
     "text": [
      "Citation            0.953247\n",
      "Warning             0.039003\n",
      "Arrest Driver       0.005290\n",
      "Arrest Passenger    0.001033\n",
      "N/D                 0.000905\n",
      "No Action           0.000522\n",
      "Name: stop_outcome, dtype: float64\n"
     ]
    },
    {
     "data": {
      "text/plain": [
       "'The numbers are similar for males and females: about 95% of stops for speeding result in a ticket. \\nThus, the data fails to show that gender has an impact on who gets a ticket for speeding.'"
      ]
     },
     "execution_count": 7,
     "metadata": {},
     "output_type": "execute_result"
    }
   ],
   "source": [
    "#--------------------------------------------\n",
    "# (2.2) Comparing speeding outcomes by gender\n",
    "#--------------------------------------------\n",
    "\n",
    "# Create a DataFrame of female drivers stopped for speeding\n",
    "female_and_speeding = ri[(ri.driver_gender=='F') & (ri.violation=='Speeding')]\n",
    "\n",
    "# Create a DataFrame of male drivers stopped for speeding\n",
    "male_and_speeding = ri[(ri.driver_gender=='M') & (ri.violation=='Speeding')]\n",
    "\n",
    "# Compute the stop outcomes for female drivers (as proportions)\n",
    "print(female_and_speeding.stop_outcome.value_counts(normalize=True))\n",
    "\n",
    "\"\"\"The numbers are similar for males and females: about 95% of stops for speeding result in a ticket. \n",
    "Thus, the data fails to show that gender has an impact on who gets a ticket for speeding.\"\"\""
   ]
  },
  {
   "cell_type": "code",
   "execution_count": 8,
   "metadata": {},
   "outputs": [
    {
     "name": "stdout",
     "output_type": "stream",
     "text": [
      "bool\n",
      "False    0.963041\n",
      "True     0.036959\n",
      "Name: search_conducted, dtype: float64\n",
      "0.036959199640437465\n",
      "0.018751239152648355\n",
      "0.04379217389811301\n",
      "driver_gender\n",
      "F    0.018751\n",
      "M    0.043792\n",
      "Name: search_conducted, dtype: float64\n",
      "driver_gender  violation          \n",
      "F              Equipment              0.040245\n",
      "               Moving violation       0.038021\n",
      "               Other                  0.045898\n",
      "               Registration/plates    0.054700\n",
      "               Seat belt              0.017746\n",
      "               Speeding               0.007738\n",
      "M              Equipment              0.070916\n",
      "               Moving violation       0.059156\n",
      "               Other                  0.046120\n",
      "               Registration/plates    0.103589\n",
      "               Seat belt              0.031705\n",
      "               Speeding               0.026630\n",
      "Name: search_conducted, dtype: float64\n",
      "violation            driver_gender\n",
      "Equipment            F                0.040245\n",
      "                     M                0.070916\n",
      "Moving violation     F                0.038021\n",
      "                     M                0.059156\n",
      "Other                F                0.045898\n",
      "                     M                0.046120\n",
      "Registration/plates  F                0.054700\n",
      "                     M                0.103589\n",
      "Seat belt            F                0.017746\n",
      "                     M                0.031705\n",
      "Speeding             F                0.007738\n",
      "                     M                0.026630\n",
      "Name: search_conducted, dtype: float64\n"
     ]
    },
    {
     "data": {
      "text/plain": [
       "'For all types of violations, the search rate is higher for males than for females, \\ndisproving our hypothesis. The search rate varies by violation type, \\nand the difference in search rate between males and females is \\nbecause they tend to commit different violations.'"
      ]
     },
     "execution_count": 8,
     "metadata": {},
     "output_type": "execute_result"
    }
   ],
   "source": [
    "#---------------------------------------\n",
    "# (2.3) Comparing search rates by gender\n",
    "#---------------------------------------\n",
    "\n",
    "# Check the data type of 'search_conducted'\n",
    "print(ri.search_conducted.dtype)  # bool\n",
    "\n",
    "# Calculate the search rate by counting the values\n",
    "print(ri.search_conducted.value_counts(normalize=True))\n",
    "\n",
    "# Calculate the search rate by taking the mean\n",
    "print(ri.search_conducted.mean())\n",
    "\n",
    "\"\"\"It looks like the search rate is about 3.8%. Next, you'll examine \n",
    "whether the search rate varies by driver gender.\"\"\"\n",
    "\n",
    "# Calculate the search rate for female drivers\n",
    "print(ri[ri.driver_gender=='F'].search_conducted.mean())\n",
    "\n",
    "# Calculate the search rate for male drivers\n",
    "print(ri[ri.driver_gender=='M'].search_conducted.mean())\n",
    "\n",
    "# Calculate the search rate for both groups simultaneously\n",
    "print(ri.groupby('driver_gender').search_conducted.mean())\n",
    "\n",
    "\"\"\"Male drivers are searched more than twice as often as female drivers. Why might this be?\"\"\"\n",
    "\n",
    "# Adding a second factor to the analysis\n",
    "# Calculate the search rate for each combination of gender and violation\n",
    "print(ri.groupby(['driver_gender', 'violation']).search_conducted.mean())\n",
    "\n",
    "# Reverse the ordering to group by violation before gender\n",
    "print(ri.groupby(['violation', 'driver_gender']).search_conducted.mean())\n",
    "\n",
    "\"\"\"For all types of violations, the search rate is higher for males than for females, \n",
    "disproving our hypothesis. The search rate varies by violation type, \n",
    "and the difference in search rate between males and females is \n",
    "because they tend to commit different violations.\"\"\""
   ]
  },
  {
   "cell_type": "code",
   "execution_count": 9,
   "metadata": {},
   "outputs": [
    {
     "name": "stdout",
     "output_type": "stream",
     "text": [
      "Incident to Arrest                                          6998\n",
      "Probable Cause                                              4989\n",
      "Reasonable Suspicion                                        1141\n",
      "Inventory                                                   1101\n",
      "Protective Frisk                                             879\n",
      "Incident to Arrest,Inventory                                 649\n",
      "Incident to Arrest,Probable Cause                            552\n",
      "Probable Cause,Reasonable Suspicion                          334\n",
      "Probable Cause,Protective Frisk                              221\n",
      "Incident to Arrest,Protective Frisk                          158\n",
      "Incident to Arrest,Inventory,Probable Cause                  151\n",
      "Inventory,Probable Cause                                     132\n",
      "Protective Frisk,Reasonable Suspicion                         83\n",
      "Incident to Arrest,Inventory,Protective Frisk                 77\n",
      "Incident to Arrest,Probable Cause,Protective Frisk            74\n",
      "Inventory,Protective Frisk                                    52\n",
      "Incident to Arrest,Reasonable Suspicion                       49\n",
      "Probable Cause,Protective Frisk,Reasonable Suspicion          31\n",
      "Incident to Arrest,Probable Cause,Reasonable Suspicion        31\n",
      "Inventory,Reasonable Suspicion                                17\n",
      "Inventory,Probable Cause,Protective Frisk                     14\n",
      "Incident to Arrest,Inventory,Reasonable Suspicion             12\n",
      "Inventory,Probable Cause,Reasonable Suspicion                  8\n",
      "Incident to Arrest,Protective Frisk,Reasonable Suspicion       8\n",
      "Inventory,Protective Frisk,Reasonable Suspicion                1\n",
      "Name: search_type, dtype: int64\n",
      "bool\n",
      "1598\n",
      "0.08996734601959239\n",
      "driver_gender\n",
      "F    0.066694\n",
      "M    0.093707\n",
      "Name: frisk, dtype: float64\n"
     ]
    },
    {
     "data": {
      "text/plain": [
       "\"The frisk rate is higher for males than for females, though we can't conclude that \\nthis difference is caused by the driver's gender.\""
      ]
     },
     "execution_count": 9,
     "metadata": {},
     "output_type": "execute_result"
    }
   ],
   "source": [
    "#--------------------------------------\n",
    "# (2.4) Comparing frisk rates by gender\n",
    "#--------------------------------------\n",
    "\n",
    "# Count the 'search_type' values\n",
    "print(ri.search_type.value_counts())\n",
    "\n",
    "# Check if 'search_type' contains the string 'Protective Frisk'\n",
    "ri['frisk'] = ri.search_type.str.contains('Protective Frisk', na=False)\n",
    "\n",
    "# Check the data type of 'frisk'\n",
    "print(ri.frisk.dtype)  # bool\n",
    "\n",
    "# Take the sum of 'frisk'\n",
    "print(ri.frisk.sum())\n",
    "\n",
    "\"\"\"It looks like there were 303 drivers who were frisked. Next, you'll examine \n",
    "whether gender affects who is frisked.\"\"\"\n",
    "\n",
    "# Create a DataFrame of stops in which a search was conducted\n",
    "searched = ri[ri.search_conducted==True]\n",
    "\n",
    "# Calculate the overall frisk rate by taking the mean of 'frisk'\n",
    "print(searched.frisk.mean())\n",
    "\n",
    "# Calculate the frisk rate for each gender\n",
    "print(searched.groupby('driver_gender').frisk.mean())\n",
    "\n",
    "\"\"\"The frisk rate is higher for males than for females, though we can't conclude that \n",
    "this difference is caused by the driver's gender.\"\"\""
   ]
  },
  {
   "cell_type": "code",
   "execution_count": 10,
   "metadata": {},
   "outputs": [
    {
     "name": "stdout",
     "output_type": "stream",
     "text": [
      "0.03454755048024903\n",
      "stop_datetime\n",
      "0     0.052151\n",
      "1     0.067127\n",
      "2     0.061067\n",
      "3     0.052613\n",
      "4     0.053897\n",
      "5     0.032657\n",
      "6     0.012949\n",
      "7     0.013829\n",
      "8     0.019717\n",
      "9     0.024699\n",
      "10    0.025583\n",
      "11    0.027078\n",
      "12    0.031361\n",
      "13    0.030250\n",
      "14    0.031531\n",
      "15    0.032125\n",
      "16    0.033519\n",
      "17    0.038989\n",
      "18    0.039902\n",
      "19    0.031366\n",
      "20    0.039292\n",
      "21    0.059956\n",
      "22    0.043980\n",
      "23    0.045087\n",
      "Name: is_arrested, dtype: float64\n"
     ]
    },
    {
     "data": {
      "text/plain": [
       "<Figure size 640x480 with 1 Axes>"
      ]
     },
     "metadata": {},
     "output_type": "display_data"
    },
    {
     "data": {
      "text/plain": [
       "'The arrest rate has a significant spike overnight, and then dips in the early morning hours.'"
      ]
     },
     "execution_count": 10,
     "metadata": {},
     "output_type": "execute_result"
    }
   ],
   "source": [
    "##########################################\n",
    "# Part 3. Visual exploratory data analysis \n",
    "##########################################\n",
    "\n",
    "#-----------------------------------------\n",
    "# (3.1) Calculating the hourly arrest rate\n",
    "#-----------------------------------------\n",
    "\n",
    "# Calculate the overall arrest rate\n",
    "print(ri.is_arrested.mean())\n",
    "\n",
    "# Calculate the hourly arrest rate\n",
    "print(ri.groupby(ri.index.hour).is_arrested.mean())\n",
    "\n",
    "# Save the hourly arrest rate\n",
    "hourly_arrest_rate = ri.groupby(ri.index.hour).is_arrested.mean()\n",
    "\n",
    "# Import matplotlib.pyplot as plt\n",
    "import matplotlib.pyplot as plt\n",
    "\n",
    "# Create a line plot of 'hourly_arrest_rate'\n",
    "hourly_arrest_rate.plot()\n",
    "\n",
    "# Add the xlabel, ylabel, and title\n",
    "plt.xlabel('Hour')\n",
    "plt.ylabel('Arrest Rate')\n",
    "plt.title('Arrest Rate by Time of Day')\n",
    "plt.show()\n",
    "\n",
    "\"\"\"The arrest rate has a significant spike overnight, and then dips in the early morning hours.\"\"\""
   ]
  },
  {
   "cell_type": "code",
   "execution_count": 11,
   "metadata": {},
   "outputs": [
    {
     "name": "stdout",
     "output_type": "stream",
     "text": [
      "stop_datetime\n",
      "2005-12-31    0.008038\n",
      "2006-12-31    0.006624\n",
      "2007-12-31    0.008437\n",
      "2008-12-31    0.007549\n",
      "2009-12-31    0.010447\n",
      "2010-12-31    0.010142\n",
      "2011-12-31    0.011400\n",
      "2012-12-31    0.010343\n",
      "2013-12-31    0.011879\n",
      "2014-12-31    0.013176\n",
      "2015-12-31    0.010598\n",
      "Freq: A-DEC, Name: drugs_related_stop, dtype: float64\n"
     ]
    },
    {
     "data": {
      "image/png": "[encoded data removed]",
      "text/plain": [
       "<Figure size 432x288 with 1 Axes>"
      ]
     },
     "metadata": {
      "needs_background": "light"
     },
     "output_type": "display_data"
    },
    {
     "data": {
      "image/png": "[encoded data removed]",
      "text/plain": [
       "<Figure size 432x288 with 2 Axes>"
      ]
     },
     "metadata": {
      "needs_background": "light"
     },
     "output_type": "display_data"
    },
    {
     "data": {
      "text/plain": [
       "'The rate of drug-related stops increased even though the search rate decreased, \\ndisproving our hypothesis.'"
      ]
     },
     "execution_count": 11,
     "metadata": {},
     "output_type": "execute_result"
    }
   ],
   "source": [
    "#----------------------------------\n",
    "# (3.2) Plotting drug-related stops\n",
    "#----------------------------------\n",
    "\n",
    "# Calculate the annual rate of drug-related stops\n",
    "print(ri.drugs_related_stop.resample('A').mean())\n",
    "\n",
    "# Save the annual rate of drug-related stops\n",
    "annual_drug_rate = ri.drugs_related_stop.resample('A').mean()\n",
    "\n",
    "# Create a line plot of 'annual_drug_rate'\n",
    "annual_drug_rate.plot()\n",
    "plt.show()\n",
    "\n",
    "\"\"\"The rate of drug-related stops nearly doubled over the course of 10 years. \n",
    "Why might that be the case?\"\"\"\n",
    "\n",
    "# Calculate and save the annual search rate\n",
    "annual_search_rate = ri.search_conducted.resample('A').mean()\n",
    "\n",
    "# Concatenate 'annual_drug_rate' and 'annual_search_rate'\n",
    "annual = pd.concat([annual_drug_rate, annual_search_rate], axis='columns')\n",
    "\n",
    "# Create subplots from 'annual'\n",
    "annual.plot(subplots=True)\n",
    "\n",
    "# Display the subplots\n",
    "plt.show()\n",
    "\n",
    "\"\"\"The rate of drug-related stops increased even though the search rate decreased, \n",
    "disproving our hypothesis.\"\"\""
   ]
  },
  {
   "cell_type": "code",
   "execution_count": 12,
   "metadata": {},
   "outputs": [
    {
     "name": "stdout",
     "output_type": "stream",
     "text": [
      "violation  Equipment  Moving violation  Other  Registration/plates  Seat belt  \\\n",
      "district                                                                        \n",
      "Zone K1         3786              7127   1501                  628          1   \n",
      "Zone K2        11285             16440   5103                 4056       2897   \n",
      "Zone K3        12959             16218   3926                 3871       3660   \n",
      "Zone X1         1725              3711    752                  192        451   \n",
      "Zone X3        11520             17178   4069                 3532       4445   \n",
      "Zone X4        19975             29554   8865                 7551       4870   \n",
      "\n",
      "violation  Speeding  \n",
      "district             \n",
      "Zone K1       33067  \n",
      "Zone K2       57500  \n",
      "Zone K3       68234  \n",
      "Zone X1        6393  \n",
      "Zone X3       48687  \n",
      "Zone X4       54855  \n",
      "violation  Equipment  Moving violation  Other  Registration/plates  Seat belt  \\\n",
      "district                                                                        \n",
      "Zone K1         3786              7127   1501                  628          1   \n",
      "Zone K2        11285             16440   5103                 4056       2897   \n",
      "Zone K3        12959             16218   3926                 3871       3660   \n",
      "\n",
      "violation  Speeding  \n",
      "district             \n",
      "Zone K1       33067  \n",
      "Zone K2       57500  \n",
      "Zone K3       68234  \n"
     ]
    },
    {
     "data": {
      "image/png": "[encoded data removed]",
      "text/plain": [
       "<Figure size 432x288 with 1 Axes>"
      ]
     },
     "metadata": {
      "needs_background": "light"
     },
     "output_type": "display_data"
    },
    {
     "data": {
      "image/png": "[encoded data removed]",
      "text/plain": [
       "<Figure size 432x288 with 1 Axes>"
      ]
     },
     "metadata": {
      "needs_background": "light"
     },
     "output_type": "display_data"
    },
    {
     "data": {
      "text/plain": [
       "'The vast majority of traffic stops in Zone K1 are for speeding, \\nand Zones K2 and K3 are remarkably similar to one another in terms of violations.'"
      ]
     },
     "execution_count": 12,
     "metadata": {},
     "output_type": "execute_result"
    }
   ],
   "source": [
    "#---------------------------------------------------\n",
    "# (3.3) What violations are caught in each district?\n",
    "#---------------------------------------------------\n",
    "\n",
    "# Create a frequency table of districts and violations\n",
    "print(pd.crosstab(ri.district, ri.violation))\n",
    "\n",
    "# Save the frequency table as 'all_zones'\n",
    "all_zones = pd.crosstab(ri.district, ri.violation)\n",
    "\n",
    "# Select rows 'Zone K1' through 'Zone K3'\n",
    "print(all_zones.loc['Zone K1':'Zone K3'])\n",
    "\n",
    "# Save the smaller table as 'k_zones'\n",
    "k_zones = all_zones.loc['Zone K1':'Zone K3']\n",
    "\n",
    "# Create a bar plot of 'k_zones'\n",
    "k_zones.plot(kind='bar')\n",
    "plt.show()\n",
    "\n",
    "# Create a stacked bar plot of 'k_zones'\n",
    "k_zones.plot(kind='bar', stacked=True)\n",
    "plt.show()\n",
    "\n",
    "\"\"\"The vast majority of traffic stops in Zone K1 are for speeding, \n",
    "and Zones K2 and K3 are remarkably similar to one another in terms of violations.\"\"\""
   ]
  },
  {
   "cell_type": "code",
   "execution_count": 13,
   "metadata": {},
   "outputs": [
    {
     "name": "stdout",
     "output_type": "stream",
     "text": [
      "['0-15 Min' '16-30 Min' '30+ Min' '2' '1']\n",
      "[ 8. 23. 45. nan]\n",
      "violation_raw\n",
      "APB                                 18.593814\n",
      "Call for Service                    21.963314\n",
      "Equipment/Inspection Violation      11.454326\n",
      "Motorist Assist/Courtesy            17.629929\n",
      "Other Traffic Violation             13.834359\n",
      "Registration Violation              13.543268\n",
      "Seatbelt Violation                   9.698236\n",
      "Special Detail/Directed Patrol      14.876778\n",
      "Speeding                            10.589215\n",
      "Suspicious Person                   18.374269\n",
      "Violation of City/Town Ordinance    13.230695\n",
      "Warrant                             19.769231\n",
      "Name: stop_minutes, dtype: float64\n"
     ]
    },
    {
     "data": {
      "image/png": "[encoded data removed]",
      "text/plain": [
       "<Figure size 432x288 with 1 Axes>"
      ]
     },
     "metadata": {
      "needs_background": "light"
     },
     "output_type": "display_data"
    }
   ],
   "source": [
    "#----------------------------------------------------\n",
    "# (3.4) How long will you be stopped for a violation?\n",
    "#----------------------------------------------------\n",
    "\n",
    "# Print the unique values in 'stop_duration'\n",
    "print(ri.stop_duration.unique())  # ['0-15 Min' '16-30 Min' '30+ Min']\n",
    "\n",
    "# Create a dictionary that maps strings to integers\n",
    "mapping = {'0-15 Min':8, '16-30 Min':23, '30+ Min':45}\n",
    "\n",
    "# Convert the 'stop_duration' strings to integers using the 'mapping'\n",
    "ri['stop_minutes'] = ri.stop_duration.map(mapping)\n",
    "\n",
    "# Print the unique values in 'stop_minutes'\n",
    "print(ri.stop_minutes.unique())\n",
    "\n",
    "# Calculate the mean 'stop_minutes' for each value in 'violation_raw'\n",
    "print(ri.groupby('violation_raw').stop_minutes.mean())\n",
    "\n",
    "# Save the resulting Series as 'stop_length'\n",
    "stop_length = ri.groupby('violation_raw').stop_minutes.mean()\n",
    "\n",
    "# Sort 'stop_length' by its values and create a horizontal bar plot\n",
    "stop_length.sort_values().plot(kind='barh')\n",
    "plt.show()"
   ]
  },
  {
   "cell_type": "code",
   "execution_count": 14,
   "metadata": {},
   "outputs": [
    {
     "name": "stdout",
     "output_type": "stream",
     "text": [
      "              TMIN         TAVG         TMAX\n",
      "count  4017.000000  1217.000000  4017.000000\n",
      "mean     43.484441    52.493016    61.268608\n",
      "std      17.020298    17.830714    18.199517\n",
      "min      -5.000000     6.000000    15.000000\n",
      "25%      30.000000    39.000000    47.000000\n",
      "50%      44.000000    54.000000    62.000000\n",
      "75%      58.000000    68.000000    77.000000\n",
      "max      77.000000    86.000000   102.000000\n"
     ]
    },
    {
     "data": {
      "image/png": "[encoded data removed]",
      "text/plain": [
       "<Figure size 432x288 with 1 Axes>"
      ]
     },
     "metadata": {
      "needs_background": "light"
     },
     "output_type": "display_data"
    },
    {
     "name": "stdout",
     "output_type": "stream",
     "text": [
      "count    4017.000000\n",
      "mean       17.784167\n",
      "std         6.350720\n",
      "min         2.000000\n",
      "25%        14.000000\n",
      "50%        18.000000\n",
      "75%        22.000000\n",
      "max        43.000000\n",
      "Name: TDIFF, dtype: float64\n"
     ]
    },
    {
     "data": {
      "image/png": "[encoded data removed]",
      "text/plain": [
       "<Figure size 432x288 with 1 Axes>"
      ]
     },
     "metadata": {
      "needs_background": "light"
     },
     "output_type": "display_data"
    },
    {
     "data": {
      "text/plain": [
       "'The TDIFF column has no negative values and its distribution is approximately normal, \\nboth of which are signs that the data is trustworthy.'"
      ]
     },
     "execution_count": 14,
     "metadata": {},
     "output_type": "execute_result"
    }
   ],
   "source": [
    "#####################################################\n",
    "# Part 4. Analyzing the effect of weather on policing \n",
    "#####################################################\n",
    "\n",
    "#------------------------------------\n",
    "# (4.1) Exploring the weather dataset\n",
    "#------------------------------------\n",
    "\n",
    "# Read 'weather.csv' into a DataFrame named 'weather'\n",
    "weather = pd.read_csv('../data/weather.csv')\n",
    "\n",
    "# Describe the temperature columns\n",
    "print(weather[['TMIN','TAVG','TMAX']].describe())\n",
    "\n",
    "# Create a box plot of the temperature columns\n",
    "weather[['TMIN','TAVG','TMAX']].plot(kind='box')\n",
    "plt.show()\n",
    "\n",
    "# Create a 'TDIFF' column that represents temperature difference\n",
    "weather['TDIFF'] = weather.TMAX - weather.TMIN\n",
    "\n",
    "# Describe the 'TDIFF' column\n",
    "print(weather['TDIFF'].describe())\n",
    "\n",
    "# Create a histogram with 20 bins to visualize 'TDIFF'\n",
    "weather.TDIFF.plot(kind='hist', bins=20)\n",
    "plt.show()\n",
    "\n",
    "\"\"\"The TDIFF column has no negative values and its distribution is approximately normal, \n",
    "both of which are signs that the data is trustworthy.\"\"\""
   ]
  },
  {
   "cell_type": "code",
   "execution_count": 15,
   "metadata": {},
   "outputs": [
    {
     "data": {
      "image/png": "[encoded data removed]",
      "text/plain": [
       "<Figure size 432x288 with 1 Axes>"
      ]
     },
     "metadata": {
      "needs_background": "light"
     },
     "output_type": "display_data"
    },
    {
     "name": "stdout",
     "output_type": "stream",
     "text": [
      "0    1749\n",
      "1     613\n",
      "2     367\n",
      "3     380\n",
      "4     476\n",
      "5     282\n",
      "6     101\n",
      "7      41\n",
      "8       4\n",
      "9       4\n",
      "Name: bad_conditions, dtype: int64\n",
      "bad      1836\n",
      "good     1749\n",
      "worse     432\n",
      "Name: rating, dtype: int64\n",
      "0    bad\n",
      "1    bad\n",
      "2    bad\n",
      "3    bad\n",
      "4    bad\n",
      "Name: rating, dtype: category\n",
      "Categories (3, object): [good < bad < worse]\n"
     ]
    },
    {
     "name": "stderr",
     "output_type": "stream",
     "text": [
      "/home/cchen/miniconda3/lib/python3.6/site-packages/ipykernel_launcher.py:38: FutureWarning: specifying 'categories' or 'ordered' in .astype() is deprecated; pass a CategoricalDtype instead\n"
     ]
    }
   ],
   "source": [
    "#-------------------------------\n",
    "# (4.2) Categorizing the weather\n",
    "#-------------------------------\n",
    "\n",
    "# Copy 'WT01' through 'WT22' to a new DataFrame\n",
    "WT = weather.loc[:,'WT01':'WT22']\n",
    "#WT = WT.apply(pd.to_numeric)  # convert object to float \n",
    "\n",
    "# Calculate the sum of each row in 'WT'\n",
    "weather['bad_conditions'] = WT.sum(axis='columns')\n",
    "\n",
    "# Replace missing values in 'bad_conditions' with '0'\n",
    "weather['bad_conditions'] = weather.bad_conditions.fillna(0).astype('int')\n",
    "\n",
    "# Create a histogram to visualize 'bad_conditions'\n",
    "weather['bad_conditions'].plot(kind='hist')\n",
    "plt.show()\n",
    "\n",
    "\"\"\"It looks like many days didn't have any bad weather conditions, \n",
    "and only a small portion of days had more than four bad weather conditions.\"\"\"\n",
    "\n",
    "# Count the unique values in 'bad_conditions' and sort the index\n",
    "print(weather.bad_conditions.value_counts().sort_index())\n",
    "\n",
    "# Create a dictionary that maps integers to strings\n",
    "mapping = {0:'good', 1:'bad', 2:'bad', 3:'bad', 4:'bad', 5:'worse', 6:'worse', 7:'worse', 8:'worse', 9:'worse'}\n",
    "\n",
    "# Convert the 'bad_conditions' integers to strings using the 'mapping'\n",
    "weather['rating'] = weather.bad_conditions.map(mapping)\n",
    "\n",
    "# Count the unique values in 'rating'\n",
    "print(weather.rating.value_counts())\n",
    "\n",
    "# Create a list of weather ratings in logical order\n",
    "cats = ['good', 'bad', 'worse']\n",
    "\n",
    "# Change the data type of 'rating' to category\n",
    "weather['rating'] = weather.rating.astype('category', ordered=True, categories=cats)\n",
    "\n",
    "# Examine the head of 'rating'\n",
    "print(weather.rating.head())"
   ]
  },
  {
   "cell_type": "code",
   "execution_count": 16,
   "metadata": {},
   "outputs": [
    {
     "name": "stdout",
     "output_type": "stream",
     "text": [
      "        stop_datetime             id   stop_date stop_time location_raw  \\\n",
      "0 2005-01-02 01:55:00  RI-2005-00001  2005-01-02     01:55      Zone K1   \n",
      "1 2005-01-02 20:30:00  RI-2005-00002  2005-01-02     20:30      Zone X4   \n",
      "2 2005-01-04 12:55:00  RI-2005-00004  2005-01-04     12:55      Zone X4   \n",
      "3 2005-01-06 01:30:00  RI-2005-00005  2005-01-06     01:30      Zone X4   \n",
      "4 2005-01-12 08:05:00  RI-2005-00006  2005-01-12     08:05      Zone X1   \n",
      "\n",
      "  police_department driver_gender  driver_age_raw  driver_age driver_race_raw  \\\n",
      "0               600             M          1985.0        20.0               W   \n",
      "1               500             M          1987.0        18.0               W   \n",
      "2               500             M          1986.0        19.0               W   \n",
      "3               500             M          1978.0        27.0               B   \n",
      "4                 0             M          1973.0        32.0               B   \n",
      "\n",
      "      ...      search_type contraband_found stop_outcome  is_arrested  \\\n",
      "0     ...              NaN            False     Citation        False   \n",
      "1     ...              NaN            False     Citation        False   \n",
      "2     ...              NaN            False     Citation        False   \n",
      "3     ...              NaN            False     Citation        False   \n",
      "4     ...              NaN            False     Citation        False   \n",
      "\n",
      "  stop_duration out_of_state  drugs_related_stop district  frisk stop_minutes  \n",
      "0      0-15 Min        False               False  Zone K1  False          8.0  \n",
      "1     16-30 Min        False               False  Zone X4  False         23.0  \n",
      "2      0-15 Min        False               False  Zone X4  False          8.0  \n",
      "3      0-15 Min        False               False  Zone X4  False          8.0  \n",
      "4       30+ Min         True               False  Zone X1  False         45.0  \n",
      "\n",
      "[5 rows x 25 columns]\n",
      "         DATE rating\n",
      "0  2005-01-01    bad\n",
      "1  2005-01-02    bad\n",
      "2  2005-01-03    bad\n",
      "3  2005-01-04    bad\n",
      "4  2005-01-05    bad\n",
      "(480584, 25)\n",
      "(480584, 27)\n"
     ]
    }
   ],
   "source": [
    "#-----------------------\n",
    "# (4.3) Merging datasets\n",
    "#-----------------------\n",
    "\n",
    "# Reset the index of 'ri': move the stop_datetime index to a column since the index will be lost during the merge\n",
    "ri.reset_index(inplace=True)\n",
    "\n",
    "# Examine the head of 'ri'\n",
    "print(ri.head())\n",
    "\n",
    "# Create a DataFrame from the 'DATE' and 'rating' columns\n",
    "weather_rating = weather[['DATE', 'rating']]\n",
    "\n",
    "# Examine the head of 'weather_rating'\n",
    "print(weather_rating.head())\n",
    "\n",
    "# Examine the shape of 'ri'\n",
    "print(ri.shape)\n",
    "\n",
    "# Merge 'ri' and 'weather_rating' using a left join\n",
    "ri_weather = pd.merge(left=ri, right=weather_rating, left_on='stop_date', right_on='DATE', how='left')\n",
    "\n",
    "# Examine the shape of 'ri_weather'\n",
    "print(ri_weather.shape)\n",
    "\n",
    "# Set 'stop_datetime' as the index of 'ri_weather'\n",
    "ri_weather.set_index('stop_datetime', inplace=True)"
   ]
  },
  {
   "cell_type": "code",
   "execution_count": 17,
   "metadata": {},
   "outputs": [
    {
     "name": "stdout",
     "output_type": "stream",
     "text": [
      "0.03454755048024903\n",
      "rating\n",
      "good     0.033004\n",
      "bad      0.035199\n",
      "worse    0.039360\n",
      "Name: is_arrested, dtype: float64\n",
      "violation            rating\n",
      "Equipment            good      0.056484\n",
      "                     bad       0.059704\n",
      "                     worse     0.094373\n",
      "Moving violation     good      0.055621\n",
      "                     bad       0.057976\n",
      "                     worse     0.062249\n",
      "Other                good      0.082492\n",
      "                     bad       0.084991\n",
      "                     worse     0.058704\n",
      "Registration/plates  good      0.076831\n",
      "                     bad       0.092749\n",
      "                     worse     0.098673\n",
      "Seat belt            good      0.025503\n",
      "                     bad       0.028845\n",
      "                     worse     0.000000\n",
      "Speeding             good      0.013214\n",
      "                     bad       0.013368\n",
      "                     worse     0.016600\n",
      "Name: is_arrested, dtype: float64\n",
      "violation            rating\n",
      "Equipment            good      0.056484\n",
      "                     bad       0.059704\n",
      "                     worse     0.094373\n",
      "Moving violation     good      0.055621\n",
      "                     bad       0.057976\n",
      "                     worse     0.062249\n",
      "Other                good      0.082492\n",
      "                     bad       0.084991\n",
      "                     worse     0.058704\n",
      "Registration/plates  good      0.076831\n",
      "                     bad       0.092749\n",
      "                     worse     0.098673\n",
      "Seat belt            good      0.025503\n",
      "                     bad       0.028845\n",
      "                     worse     0.000000\n",
      "Speeding             good      0.013214\n",
      "                     bad       0.013368\n",
      "                     worse     0.016600\n",
      "Name: is_arrested, dtype: float64\n",
      "0.05797625940938043\n",
      "rating\n",
      "good     0.013214\n",
      "bad      0.013368\n",
      "worse    0.016600\n",
      "Name: is_arrested, dtype: float64\n",
      "rating                   good       bad     worse\n",
      "violation                                        \n",
      "Equipment            0.056484  0.059704  0.094373\n",
      "Moving violation     0.055621  0.057976  0.062249\n",
      "Other                0.082492  0.084991  0.058704\n",
      "Registration/plates  0.076831  0.092749  0.098673\n",
      "Seat belt            0.025503  0.028845  0.000000\n",
      "Speeding             0.013214  0.013368  0.016600\n",
      "rating                   good       bad     worse\n",
      "violation                                        \n",
      "Equipment            0.056484  0.059704  0.094373\n",
      "Moving violation     0.055621  0.057976  0.062249\n",
      "Other                0.082492  0.084991  0.058704\n",
      "Registration/plates  0.076831  0.092749  0.098673\n",
      "Seat belt            0.025503  0.028845  0.000000\n",
      "Speeding             0.013214  0.013368  0.016600\n"
     ]
    }
   ],
   "source": [
    "#-------------------------------------------\n",
    "# (4.4) Dose weather affect the arrest rate?\n",
    "#-------------------------------------------\n",
    "\"\"\"\n",
    "Do police officers arrest drivers more often when the weather is bad? Find out below!\n",
    "\n",
    "First, you'll calculate the overall arrest rate.\n",
    "Then, you'll calculate the arrest rate for each of the weather ratings you previously assigned.\n",
    "Finally, you'll add violation type as a second factor in the analysis, \n",
    "to see if that accounts for any differences in the arrest rate.\n",
    "\"\"\"\n",
    "# Calculate the overall arrest rate\n",
    "print(ri_weather.is_arrested.mean())\n",
    "\n",
    "# Calculate the arrest rate for each 'rating'\n",
    "print(ri_weather.groupby('rating').is_arrested.mean())\n",
    "\n",
    "# Calculate the arrest rate for each 'violation' and 'rating'\n",
    "print(ri_weather.groupby(['violation','rating']).is_arrested.mean())\n",
    "\"\"\"The arrest rate increases as the weather gets worse, and \n",
    "that trend persists across many of the violation types.\"\"\"\n",
    "\n",
    "\"\"\"\n",
    "The output of a single .groupby() operation on multiple columns is a Series with a MultiIndex.\n",
    "Working with this type of object is similar to working with a DataFrame:\n",
    "\n",
    "The outer index level is like the DataFrame rows.\n",
    "The inner index level is like the DataFrame columns.\n",
    "\"\"\"\n",
    "# Save the output of the groupby operation from the last exercise\n",
    "arrest_rate = ri_weather.groupby(['violation', 'rating']).is_arrested.mean()\n",
    "\n",
    "# Print the 'arrest_rate' Series\n",
    "print(arrest_rate)\n",
    "\n",
    "# Print the arrest rate for moving violations in bad weather\n",
    "print(arrest_rate.loc['Moving violation', 'bad'])\n",
    "\n",
    "# Print the arrest rates for speeding violations in all three weather conditions\n",
    "print(arrest_rate.loc['Speeding'])\n",
    "\n",
    "\n",
    "\"\"\"\n",
    "Reshape the arrest_rate Series into a DataFrame. \n",
    "This is a useful step when working with any multi-indexed Series, \n",
    "since it enables you to access the full range of DataFrame methods.\n",
    "\n",
    "Then, create the exact same DataFrame using a pivot table. \n",
    "This is a great example of how pandas often gives you more than one way to reach the same result!\n",
    "\"\"\"\n",
    "# Unstack the 'arrest_rate' Series into a DataFrame\n",
    "print(arrest_rate.unstack())\n",
    "\n",
    "# Create the same DataFrame using a pivot table\n",
    "print(ri_weather.pivot_table(index='violation', columns='rating', values='is_arrested'))"
   ]
  }
 ],
 "metadata": {
  "kernelspec": {
   "display_name": "Python 3",
   "language": "python",
   "name": "python3"
  },
  "language_info": {
   "codemirror_mode": {
    "name": "ipython",
    "version": 3
   },
   "file_extension": ".py",
   "mimetype": "text/x-python",
   "name": "python",
   "nbconvert_exporter": "python",
   "pygments_lexer": "ipython3",
   "version": "3.7.4"
  }
 },
 "nbformat": 4,
 "nbformat_minor": 2
}
